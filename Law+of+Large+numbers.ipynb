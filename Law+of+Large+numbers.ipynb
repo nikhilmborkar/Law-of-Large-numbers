{
 "cells": [
  {
   "cell_type": "code",
   "execution_count": 177,
   "metadata": {},
   "outputs": [
    {
     "name": "stdout",
     "output_type": "stream",
     "text": [
      "0.0065170250648\n"
     ]
    }
   ],
   "source": [
    "import numpy as np\n",
    "from numpy.random import randn\n",
    "N = 100                      #Specifies sample size\n",
    "counter = 0                   #Reset counter\n",
    "for i in randn (N):       #Iterate over random values       \n",
    "    if ( -1< i and 1>i  ):      #Check where iterated variables falls\n",
    "        counter = i + 1  #Increase counter if condition is met \n",
    "answer = counter/N            #Calculate hit ratio\n",
    "print (answer)                #prints answer"
   ]
  }
 ],
 "metadata": {
  "kernelspec": {
   "display_name": "Python 2",
   "language": "python",
   "name": "python2"
  },
  "language_info": {
   "codemirror_mode": {
    "name": "ipython",
    "version": 2
   },
   "file_extension": ".py",
   "mimetype": "text/x-python",
   "name": "python",
   "nbconvert_exporter": "python",
   "pygments_lexer": "ipython2",
   "version": "2.7.13"
  }
 },
 "nbformat": 4,
 "nbformat_minor": 2
}
